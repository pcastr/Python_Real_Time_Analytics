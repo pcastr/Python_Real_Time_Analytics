{
 "cells": [
  {
   "cell_type": "markdown",
   "id": "4a4ca2b6",
   "metadata": {},
   "source": [
    "# <font color='blue'>ESTUDO DE CASO COM NUMPY(PRÉ-PROCESSAMENTO)</font>"
   ]
  },
  {
   "cell_type": "markdown",
   "id": "be14b40f",
   "metadata": {},
   "source": [
    "#### Para  este  Estudo  de  Caso trabalharemos  com  dados  reais  disponíveis  publicamente  no link abaixo: https://www.openintro.org/data/index.php?data=loans_full_schema\n",
    "\n",
    "#### Esse  conjunto  de  dados  representa  milhares  de  empréstimos  feitos  por  meio  da plataforma  Lending  Club,  que  é  uma  plataforma  que  permite  que  indivíduos  emprestem  para outros indivíduos. \n",
    "\n",
    "#### Claro, nem todos os empréstimos são iguais. Alguém que fornece um baixo risco e que provavelmente vaipagar um empréstimo terá mais facilidade em obter um empréstimo com uma taxa de juros baixa do que alguém que parece ser mais arriscado. \n",
    "\n",
    "#### E para as pessoas com alto risco de não pagar o empréstimo? Essas pessoaspodem nem receber uma oferta de empréstimo, ou podem não aceitaruma oferta de empréstimo devido a uma alta taxa de juros. É importante ter em mente essa última parte, pois esse conjunto de dados representa  apenas  empréstimos  efetivamente  feitos,  ou  seja,  não  confunda  esses  dados  com pedidos de empréstimo!\n",
    "\n",
    "#### Usamos   como   fonte   de   dados   o   dataset   disponível   no   link   acima,   mas   fizemos modificações nos dados para deixá-los ainda mais problemáticos. O dataset será fornecido a você junto com os demais arquivos do capítulo.\n",
    "\n",
    "#### Além  disso  usaremos  um  dataset  com  cotação  do  dólar  em  relação  ao  Euro.  Extraímos uma pequena amostra de dados do site: https://finance.yahoo.com. O dataset será fornecido a você junto com os demais arquivos do capítulo.\n",
    "\n",
    "#### Nosso trabalho é limpar e pré-processar os dados, deixando-os no formato ideal para um processo de análise posterior e várias decisões terão que ser tomadas no meio do caminho. Ao final do trabalho devemos salvar o dataset com os dados limpos e pré-processados."
   ]
  },
  {
   "cell_type": "code",
   "execution_count": 1,
   "id": "41fe7c9f",
   "metadata": {},
   "outputs": [
    {
     "name": "stdout",
     "output_type": "stream",
     "text": [
      "Versão da Linguagem Python Usada Neste Jupyter Notebook: 3.9.7\n"
     ]
    }
   ],
   "source": [
    "#Versão da Linguagem Python\n",
    "from platform import python_version\n",
    "print('Versão da Linguagem Python Usada Neste Jupyter Notebook:', python_version())"
   ]
  },
  {
   "cell_type": "code",
   "execution_count": 2,
   "id": "eefec70c",
   "metadata": {},
   "outputs": [],
   "source": [
    "# Para atualizar um pacote, execute o comando abaixo no terminal ou prompt de comando:\n",
    "# pip install -U nome_pacote\n",
    "\n",
    "# Para instalar a versão exata de um pacote, execute o comando abaixo no terminal ou prompt de comando:\n",
    "# !pip install nome_pacote==versão_desejada\n",
    "\n",
    "# Depois de instalar ou atualizar o pacote, reinicie o jupyter notebook.\n",
    "\n",
    "# Instala o pacote watermark. \n",
    "# Esse pacote é usado para gravar as versões de outros pacotes usados neste jupyter notebook.\n",
    "# !pip install -q -U watermark"
   ]
  },
  {
   "cell_type": "code",
   "execution_count": 3,
   "id": "7d7f21c0",
   "metadata": {},
   "outputs": [],
   "source": [
    "# Import\n",
    "import numpy as np"
   ]
  },
  {
   "cell_type": "code",
   "execution_count": 4,
   "id": "cc923f0d",
   "metadata": {},
   "outputs": [],
   "source": [
    "import warnings\n",
    "warnings.filterwarnings('ignore')"
   ]
  },
  {
   "cell_type": "code",
   "execution_count": 5,
   "id": "1dddc925",
   "metadata": {},
   "outputs": [
    {
     "name": "stdout",
     "output_type": "stream",
     "text": [
      "Author: Lucas Castro\n",
      "\n",
      "numpy: 1.22.3\n",
      "\n"
     ]
    }
   ],
   "source": [
    "# Versões dos pacotes usados neste jupyter notebook\n",
    "%reload_ext watermark\n",
    "%watermark -a \"Lucas Castro\" --iversions"
   ]
  },
  {
   "cell_type": "code",
   "execution_count": 6,
   "id": "8dc87889",
   "metadata": {},
   "outputs": [],
   "source": [
    "# Configuração de impressão do NumPy\n",
    "np.set_printoptions(suppress = True, linewidth = 200, precision = 2)"
   ]
  },
  {
   "cell_type": "markdown",
   "id": "cfe4b970",
   "metadata": {},
   "source": [
    "## <font color='blue' text-align:center >Carregando o Dataset</font>"
   ]
  },
  {
   "cell_type": "code",
   "execution_count": 7,
   "id": "79776a3e",
   "metadata": {},
   "outputs": [],
   "source": [
    "dados = np.genfromtxt(\"dados/dataset1.csv\", \n",
    "                      delimiter=';', \n",
    "                      skip_header = 1, \n",
    "                      autostrip = True, \n",
    "                      encoding = 'cp1252')"
   ]
  },
  {
   "cell_type": "code",
   "execution_count": 8,
   "id": "0e8ce803",
   "metadata": {},
   "outputs": [
    {
     "data": {
      "text/plain": [
       "numpy.ndarray"
      ]
     },
     "execution_count": 8,
     "metadata": {},
     "output_type": "execute_result"
    }
   ],
   "source": [
    "type(dados)"
   ]
  },
  {
   "cell_type": "code",
   "execution_count": 9,
   "id": "3fb5dcaa",
   "metadata": {},
   "outputs": [
    {
     "data": {
      "text/plain": [
       "(10000, 14)"
      ]
     },
     "execution_count": 9,
     "metadata": {},
     "output_type": "execute_result"
    }
   ],
   "source": [
    "dados.shape"
   ]
  },
  {
   "cell_type": "code",
   "execution_count": 10,
   "id": "15ee566f",
   "metadata": {},
   "outputs": [
    {
     "data": {
      "text/plain": [
       "array([[48010226.  ,         nan,    35000.  , ...,         nan,         nan,     9452.96],\n",
       "       [57693261.  ,         nan,    30000.  , ...,         nan,         nan,     4679.7 ],\n",
       "       [59432726.  ,         nan,    15000.  , ...,         nan,         nan,     1969.83],\n",
       "       ...,\n",
       "       [50415990.  ,         nan,    10000.  , ...,         nan,         nan,     2185.64],\n",
       "       [46154151.  ,         nan,         nan, ...,         nan,         nan,     3199.4 ],\n",
       "       [66055249.  ,         nan,    10000.  , ...,         nan,         nan,      301.9 ]])"
      ]
     },
     "execution_count": 10,
     "metadata": {},
     "output_type": "execute_result"
    }
   ],
   "source": [
    "dados.view()"
   ]
  },
  {
   "cell_type": "markdown",
   "id": "fad767be",
   "metadata": {},
   "source": [
    "Observamos que muitas colunas estão com tipo <font color='red'>nan</font>. Isso se deve a caracteres especiais no conjunto de dados ea forma como o <font color='blue'>NumPy</font> carrega os dados numéricos e do tipo string. Vamos resolver isso."
   ]
  },
  {
   "cell_type": "markdown",
   "id": "e2d42b97",
   "metadata": {},
   "source": [
    "## <font color='blue'>Verificando Valores Ausentes</font>"
   ]
  },
  {
   "cell_type": "code",
   "execution_count": 11,
   "id": "a7bc0403",
   "metadata": {},
   "outputs": [
    {
     "data": {
      "text/plain": [
       "88005"
      ]
     },
     "execution_count": 11,
     "metadata": {},
     "output_type": "execute_result"
    }
   ],
   "source": [
    "np.isnan(dados).sum()"
   ]
  },
  {
   "cell_type": "code",
   "execution_count": 12,
   "id": "de63bc1a",
   "metadata": {},
   "outputs": [
    {
     "name": "stdout",
     "output_type": "stream",
     "text": [
      "68616520.0\n"
     ]
    }
   ],
   "source": [
    "# Vamos retorna o maior valor +1 ignorando valores nan\n",
    "# Usaremos esse valor arbitrário para preencher os valores ausentes no momento de carga de dados de variáveis\n",
    "# numéricas e depois tratamos esse calor como valor ausente\n",
    "valor_coringa = np.nanmax(dados) + 1\n",
    "print(valor_coringa)"
   ]
  },
  {
   "cell_type": "code",
   "execution_count": 13,
   "id": "3b023cdc",
   "metadata": {},
   "outputs": [
    {
     "name": "stdout",
     "output_type": "stream",
     "text": [
      "[54015809.19         nan    15273.46         nan    15311.04         nan       16.62      440.92         nan         nan         nan         nan         nan     3143.85]\n"
     ]
    }
   ],
   "source": [
    "# Calculamos a média (variáveis numéricas) ignorando valores nan por coluna\n",
    "# Usaremos isso para separar variáveis numéricas de variáveis do tipo string \n",
    "media_ignorando_nan = np.nanmean(dados, axis = 0)\n",
    "print(media_ignorando_nan)"
   ]
  },
  {
   "cell_type": "code",
   "execution_count": 14,
   "id": "1ae86c5d",
   "metadata": {},
   "outputs": [
    {
     "data": {
      "text/plain": [
       "array([ 1,  3,  5,  8,  9, 10, 11, 12])"
      ]
     },
     "execution_count": 14,
     "metadata": {},
     "output_type": "execute_result"
    }
   ],
   "source": [
    "# Colunas do tipo  string com valores ausentes\n",
    "colunas_string = np.argwhere(np.isnan(media_ignorando_nan)).squeeze(); colunas_string"
   ]
  },
  {
   "cell_type": "code",
   "execution_count": 15,
   "id": "9db459d7",
   "metadata": {},
   "outputs": [
    {
     "data": {
      "text/plain": [
       "array([ 0,  2,  4,  6,  7, 13])"
      ]
     },
     "execution_count": 15,
     "metadata": {},
     "output_type": "execute_result"
    }
   ],
   "source": [
    "# Colunas numéricas\n",
    "colunas_numericas = np.argwhere(np.isnan(media_ignorando_nan)==False).squeeze(); colunas_numericas"
   ]
  },
  {
   "cell_type": "markdown",
   "id": "9827497e",
   "metadata": {},
   "source": [
    "> Importamos novamente o dataset, separando colunas do tipo string de colunas numéricas."
   ]
  },
  {
   "cell_type": "code",
   "execution_count": 16,
   "id": "014bb668",
   "metadata": {},
   "outputs": [],
   "source": [
    "# Carrega as colunas do tipo string\n",
    "arr_str = np.genfromtxt(\"dados/dataset1.csv\",\n",
    "                       delimiter=';',\n",
    "                       skip_header=1, \n",
    "                       autostrip= True,\n",
    "                       usecols = colunas_string,\n",
    "                       dtype = str,\n",
    "                       encoding = 'cp1252')"
   ]
  },
  {
   "cell_type": "code",
   "execution_count": 17,
   "id": "399ec247",
   "metadata": {},
   "outputs": [
    {
     "data": {
      "text/plain": [
       "array([['May-15', 'Current', '36 months', ..., 'Verified', 'https://www.lendingclub.com/browse/loanDetail.action?loan_id=48010226', 'CA'],\n",
       "       ['', 'Current', '36 months', ..., 'Source Verified', 'https://www.lendingclub.com/browse/loanDetail.action?loan_id=57693261', 'NY'],\n",
       "       ['Sep-15', 'Current', '36 months', ..., 'Verified', 'https://www.lendingclub.com/browse/loanDetail.action?loan_id=59432726', 'PA'],\n",
       "       ...,\n",
       "       ['Jun-15', 'Current', '36 months', ..., 'Source Verified', 'https://www.lendingclub.com/browse/loanDetail.action?loan_id=50415990', 'CA'],\n",
       "       ['Apr-15', 'Current', '36 months', ..., 'Source Verified', 'https://www.lendingclub.com/browse/loanDetail.action?loan_id=46154151', 'OH'],\n",
       "       ['Dec-15', 'Current', '36 months', ..., '', 'https://www.lendingclub.com/browse/loanDetail.action?loan_id=66055249', 'IL']], dtype='<U69')"
      ]
     },
     "execution_count": 17,
     "metadata": {},
     "output_type": "execute_result"
    }
   ],
   "source": [
    "arr_str"
   ]
  },
  {
   "cell_type": "code",
   "execution_count": 18,
   "id": "5a969f58",
   "metadata": {},
   "outputs": [],
   "source": [
    "# Carrega as colunas do tipo numérico preenchendo os valores ausentes\n",
    "arr_num = np.genfromtxt(\"dados/dataset1.csv\",\n",
    "                            delimiter = ';',\n",
    "                            autostrip = True,\n",
    "                            skip_header = 1,\n",
    "                            usecols = colunas_numericas,\n",
    "                            filling_values = valor_coringa, \n",
    "                            encoding = 'cp1252')"
   ]
  },
  {
   "cell_type": "code",
   "execution_count": 19,
   "id": "6d76a81f",
   "metadata": {},
   "outputs": [
    {
     "data": {
      "text/plain": [
       "array([[48010226.  ,    35000.  ,    35000.  ,       13.33,     1184.86,     9452.96],\n",
       "       [57693261.  ,    30000.  ,    30000.  , 68616520.  ,      938.57,     4679.7 ],\n",
       "       [59432726.  ,    15000.  ,    15000.  , 68616520.  ,      494.86,     1969.83],\n",
       "       ...,\n",
       "       [50415990.  ,    10000.  ,    10000.  , 68616520.  , 68616520.  ,     2185.64],\n",
       "       [46154151.  , 68616520.  ,    10000.  ,       16.55,      354.3 ,     3199.4 ],\n",
       "       [66055249.  ,    10000.  ,    10000.  , 68616520.  ,      309.97,      301.9 ]])"
      ]
     },
     "execution_count": 19,
     "metadata": {},
     "output_type": "execute_result"
    }
   ],
   "source": [
    "arr_num"
   ]
  },
  {
   "cell_type": "markdown",
   "id": "abb375d2",
   "metadata": {},
   "source": [
    "> Agora exraímkos os nomes das colunas"
   ]
  },
  {
   "cell_type": "code",
   "execution_count": 20,
   "id": "bed25d0a",
   "metadata": {},
   "outputs": [],
   "source": [
    "# Carrega os nomes das colunas \n",
    "arr_col = np.genfromtxt(\"dados/dataset1.csv\",\n",
    "                       delimiter=';',\n",
    "                       autostrip=True,\n",
    "                       skip_footer= dados.shape[0],\n",
    "                       dtype=str,\n",
    "                       encoding='cp1252')"
   ]
  },
  {
   "cell_type": "code",
   "execution_count": 21,
   "id": "0bbe8661",
   "metadata": {},
   "outputs": [
    {
     "data": {
      "text/plain": [
       "array(['id', 'issue_d', 'loan_amnt', 'loan_status', 'funded_amnt', 'term', 'int_rate', 'installment', 'grade', 'sub_grade', 'verification_status', 'url', 'addr_state', 'total_pymnt'], dtype='<U19')"
      ]
     },
     "execution_count": 21,
     "metadata": {},
     "output_type": "execute_result"
    }
   ],
   "source": [
    "arr_col"
   ]
  },
  {
   "cell_type": "code",
   "execution_count": 22,
   "id": "fba7c47e",
   "metadata": {},
   "outputs": [],
   "source": [
    "# Separa cabeçalho de colnas str e num\n",
    "header_str, header_num = arr_col[colunas_string], arr_col[colunas_numericas]"
   ]
  },
  {
   "cell_type": "code",
   "execution_count": 23,
   "id": "9e1489ed",
   "metadata": {},
   "outputs": [
    {
     "data": {
      "text/plain": [
       "array(['issue_d', 'loan_status', 'term', 'grade', 'sub_grade', 'verification_status', 'url', 'addr_state'], dtype='<U19')"
      ]
     },
     "execution_count": 23,
     "metadata": {},
     "output_type": "execute_result"
    }
   ],
   "source": [
    "header_str"
   ]
  },
  {
   "cell_type": "code",
   "execution_count": 24,
   "id": "c3d71d6c",
   "metadata": {},
   "outputs": [
    {
     "data": {
      "text/plain": [
       "array(['id', 'loan_amnt', 'funded_amnt', 'int_rate', 'installment', 'total_pymnt'], dtype='<U19')"
      ]
     },
     "execution_count": 24,
     "metadata": {},
     "output_type": "execute_result"
    }
   ],
   "source": [
    "header_num"
   ]
  },
  {
   "cell_type": "markdown",
   "id": "8cc2840f",
   "metadata": {},
   "source": [
    "## <font color = 'blue'>Função de Checkpoint</font>"
   ]
  },
  {
   "cell_type": "code",
   "execution_count": 25,
   "id": "06bf33e1",
   "metadata": {},
   "outputs": [],
   "source": [
    "# Função \n",
    "def checkpoint(file_name, checkpoint_header, checkpoint_data): \n",
    "    np.savez(file_name, checkpoint_header,data = checkpoint_data)\n",
    "    checkpoint_var = np.load(file_name + \".npz\")\n",
    "    return(checkpoint_var)"
   ]
  },
  {
   "cell_type": "code",
   "execution_count": 26,
   "id": "9a84fb2d",
   "metadata": {},
   "outputs": [],
   "source": [
    "checkpoint_inicial = checkpoint(\"dados/Checkpoint-inicial\", header_str, arr_str)"
   ]
  },
  {
   "cell_type": "code",
   "execution_count": 27,
   "id": "ea20f11a",
   "metadata": {},
   "outputs": [
    {
     "data": {
      "text/plain": [
       "array([['May-15', 'Current', '36 months', ..., 'Verified', 'https://www.lendingclub.com/browse/loanDetail.action?loan_id=48010226', 'CA'],\n",
       "       ['', 'Current', '36 months', ..., 'Source Verified', 'https://www.lendingclub.com/browse/loanDetail.action?loan_id=57693261', 'NY'],\n",
       "       ['Sep-15', 'Current', '36 months', ..., 'Verified', 'https://www.lendingclub.com/browse/loanDetail.action?loan_id=59432726', 'PA'],\n",
       "       ...,\n",
       "       ['Jun-15', 'Current', '36 months', ..., 'Source Verified', 'https://www.lendingclub.com/browse/loanDetail.action?loan_id=50415990', 'CA'],\n",
       "       ['Apr-15', 'Current', '36 months', ..., 'Source Verified', 'https://www.lendingclub.com/browse/loanDetail.action?loan_id=46154151', 'OH'],\n",
       "       ['Dec-15', 'Current', '36 months', ..., '', 'https://www.lendingclub.com/browse/loanDetail.action?loan_id=66055249', 'IL']], dtype='<U69')"
      ]
     },
     "execution_count": 27,
     "metadata": {},
     "output_type": "execute_result"
    }
   ],
   "source": [
    "checkpoint_inicial['data']"
   ]
  },
  {
   "cell_type": "code",
   "execution_count": 28,
   "id": "2f186de1",
   "metadata": {},
   "outputs": [
    {
     "data": {
      "text/plain": [
       "True"
      ]
     },
     "execution_count": 28,
     "metadata": {},
     "output_type": "execute_result"
    }
   ],
   "source": [
    "np.array_equal(checkpoint_inicial['data'], arr_str)"
   ]
  },
  {
   "cell_type": "markdown",
   "id": "11b23f11",
   "metadata": {},
   "source": [
    "## <font color='blue'>Manipulando as colunas tipo string</font>"
   ]
  },
  {
   "cell_type": "code",
   "execution_count": 29,
   "id": "eaadf47c",
   "metadata": {},
   "outputs": [
    {
     "data": {
      "text/plain": [
       "array(['issue_d', 'loan_status', 'term', 'grade', 'sub_grade', 'verification_status', 'url', 'addr_state'], dtype='<U19')"
      ]
     },
     "execution_count": 29,
     "metadata": {},
     "output_type": "execute_result"
    }
   ],
   "source": [
    "header_str"
   ]
  },
  {
   "cell_type": "code",
   "execution_count": 30,
   "id": "461f8175",
   "metadata": {},
   "outputs": [
    {
     "data": {
      "text/plain": [
       "array(['issue_date', 'loan_status', 'term', 'grade', 'sub_grade', 'verification_status', 'url', 'addr_state'], dtype='<U19')"
      ]
     },
     "execution_count": 30,
     "metadata": {},
     "output_type": "execute_result"
    }
   ],
   "source": [
    "# Vamos ajustar o nome da coluna issue_d para facilitar a identificação da coluna\n",
    "header_str[0] = \"issue_date\"; header_str"
   ]
  },
  {
   "cell_type": "code",
   "execution_count": 31,
   "id": "4e1ab691",
   "metadata": {},
   "outputs": [
    {
     "data": {
      "text/plain": [
       "array([['May-15', 'Current', '36 months', ..., 'Verified', 'https://www.lendingclub.com/browse/loanDetail.action?loan_id=48010226', 'CA'],\n",
       "       ['', 'Current', '36 months', ..., 'Source Verified', 'https://www.lendingclub.com/browse/loanDetail.action?loan_id=57693261', 'NY'],\n",
       "       ['Sep-15', 'Current', '36 months', ..., 'Verified', 'https://www.lendingclub.com/browse/loanDetail.action?loan_id=59432726', 'PA'],\n",
       "       ...,\n",
       "       ['Jun-15', 'Current', '36 months', ..., 'Source Verified', 'https://www.lendingclub.com/browse/loanDetail.action?loan_id=50415990', 'CA'],\n",
       "       ['Apr-15', 'Current', '36 months', ..., 'Source Verified', 'https://www.lendingclub.com/browse/loanDetail.action?loan_id=46154151', 'OH'],\n",
       "       ['Dec-15', 'Current', '36 months', ..., '', 'https://www.lendingclub.com/browse/loanDetail.action?loan_id=66055249', 'IL']], dtype='<U69')"
      ]
     },
     "execution_count": 31,
     "metadata": {},
     "output_type": "execute_result"
    }
   ],
   "source": [
    "arr_str"
   ]
  },
  {
   "cell_type": "markdown",
   "id": "178dd613",
   "metadata": {},
   "source": [
    "## <font color='blue'>Pré-processamento da variável issue_date com </font> <font color='red'> Label Encoding</font>"
   ]
  },
  {
   "cell_type": "code",
   "execution_count": 32,
   "id": "7d7291c9",
   "metadata": {},
   "outputs": [
    {
     "data": {
      "text/plain": [
       "array(['', 'Apr-15', 'Aug-15', 'Dec-15', 'Feb-15', 'Jan-15', 'Jul-15', 'Jun-15', 'Mar-15', 'May-15', 'Nov-15', 'Oct-15', 'Sep-15'], dtype='<U69')"
      ]
     },
     "execution_count": 32,
     "metadata": {},
     "output_type": "execute_result"
    }
   ],
   "source": [
    "# Extrai os valores únicos da variável\n",
    "np.unique(arr_str[:, 0])"
   ]
  },
  {
   "cell_type": "code",
   "execution_count": 33,
   "id": "eb8986de",
   "metadata": {},
   "outputs": [],
   "source": [
    "# Vamos remover remover o sufixo -15 e converter em um array de strings\n",
    "arr_str[:, 0] = np.chararray.strip(arr_str[:,0], \"-15\")"
   ]
  },
  {
   "cell_type": "code",
   "execution_count": 34,
   "id": "d2c265ab",
   "metadata": {},
   "outputs": [
    {
     "data": {
      "text/plain": [
       "array(['', 'Apr', 'Aug', 'Dec', 'Feb', 'Jan', 'Jul', 'Jun', 'Mar', 'May', 'Nov', 'Oct', 'Sep'], dtype='<U69')"
      ]
     },
     "execution_count": 34,
     "metadata": {},
     "output_type": "execute_result"
    }
   ],
   "source": [
    "# Extrai os valores únicos da variável\n",
    "np.unique(arr_str[:, 0])"
   ]
  },
  {
   "cell_type": "code",
   "execution_count": 35,
   "id": "80618c8b",
   "metadata": {},
   "outputs": [],
   "source": [
    "# Criamos um array com os meses (incluindo um elemento como vazio o que estiver em branco)\n",
    "meses = np.array(['','Jan', 'Feb','Mar','Apr', 'May', 'Jun', 'Jul', 'Aug','Sep' ,'Oct','Nov','Dec'])"
   ]
  },
  {
   "cell_type": "code",
   "execution_count": 36,
   "id": "09d9f795",
   "metadata": {},
   "outputs": [],
   "source": [
    "# Loop pra converter os nomes dos meses em valores numéricos\n",
    "# Chamamos isso de Label Encoding\n",
    "\n",
    "for i in range(13): \n",
    "    arr_str[:, 0] = np.where(arr_str[:,0]==meses[i], i, arr_str[:, 0])"
   ]
  },
  {
   "cell_type": "code",
   "execution_count": 37,
   "id": "6aca3581",
   "metadata": {},
   "outputs": [
    {
     "data": {
      "text/plain": [
       "array(['0', '1', '10', '11', '12', '2', '3', '4', '5', '6', '7', '8', '9'], dtype='<U69')"
      ]
     },
     "execution_count": 37,
     "metadata": {},
     "output_type": "execute_result"
    }
   ],
   "source": [
    "np.unique(arr_str[:, 0])"
   ]
  },
  {
   "cell_type": "markdown",
   "id": "70cd1929",
   "metadata": {},
   "source": [
    "## <font color='blue'>Pré-processamento da variável loan_status com </font> <font color='red'>Binarização</font>"
   ]
  },
  {
   "cell_type": "code",
   "execution_count": 38,
   "id": "cd6ac624",
   "metadata": {},
   "outputs": [
    {
     "data": {
      "text/plain": [
       "array(['issue_date', 'loan_status', 'term', 'grade', 'sub_grade', 'verification_status', 'url', 'addr_state'], dtype='<U19')"
      ]
     },
     "execution_count": 38,
     "metadata": {},
     "output_type": "execute_result"
    }
   ],
   "source": [
    "header_str"
   ]
  },
  {
   "cell_type": "code",
   "execution_count": 39,
   "id": "94fd9e76",
   "metadata": {},
   "outputs": [
    {
     "data": {
      "text/plain": [
       "array(['', 'Charged Off', 'Current', 'Default', 'Fully Paid', 'In Grace Period', 'Issued', 'Late (16-30 days)', 'Late (31-120 days)'], dtype='<U69')"
      ]
     },
     "execution_count": 39,
     "metadata": {},
     "output_type": "execute_result"
    }
   ],
   "source": [
    "# Extrai os valores únicos da variável\n",
    "np.unique(arr_str[:, 1])"
   ]
  },
  {
   "cell_type": "code",
   "execution_count": 40,
   "id": "f790adec",
   "metadata": {},
   "outputs": [
    {
     "data": {
      "text/plain": [
       "9"
      ]
     },
     "execution_count": 40,
     "metadata": {},
     "output_type": "execute_result"
    }
   ],
   "source": [
    "# Número de elementos\n",
    "np.unique(arr_str[:, 1]).size"
   ]
  },
  {
   "cell_type": "code",
   "execution_count": 41,
   "id": "9bf312a2",
   "metadata": {},
   "outputs": [],
   "source": [
    "# Criamos um array com apenas 3 status\n",
    "status_bad = np.array(['', 'Charged Off','Default','Late (31-120 days)'])"
   ]
  },
  {
   "cell_type": "code",
   "execution_count": 42,
   "id": "07b4c984",
   "metadata": {},
   "outputs": [],
   "source": [
    "# Checamos agora os valores da variável e comparamos com o array anterior convertendo a variável para valores binários\n",
    "# Chamamos isso de binarização\n",
    "arr_str[:, 1] = np.where(np.isin(arr_str[:,1], status_bad),0,1)"
   ]
  },
  {
   "cell_type": "code",
   "execution_count": 43,
   "id": "4fa0620d",
   "metadata": {},
   "outputs": [
    {
     "data": {
      "text/plain": [
       "array(['0', '1'], dtype='<U69')"
      ]
     },
     "execution_count": 43,
     "metadata": {},
     "output_type": "execute_result"
    }
   ],
   "source": [
    "np.unique(arr_str[:, 1])"
   ]
  },
  {
   "cell_type": "markdown",
   "id": "17c54e89",
   "metadata": {},
   "source": [
    "## <font color='blue'>Pré-processamento da variável term com </font> <font color='red'>Limpeza da String</font>"
   ]
  },
  {
   "cell_type": "code",
   "execution_count": 44,
   "id": "6cc0e967",
   "metadata": {},
   "outputs": [
    {
     "data": {
      "text/plain": [
       "array(['issue_date', 'loan_status', 'term', 'grade', 'sub_grade', 'verification_status', 'url', 'addr_state'], dtype='<U19')"
      ]
     },
     "execution_count": 44,
     "metadata": {},
     "output_type": "execute_result"
    }
   ],
   "source": [
    "header_str"
   ]
  },
  {
   "cell_type": "code",
   "execution_count": 45,
   "id": "9e5dbd49",
   "metadata": {},
   "outputs": [
    {
     "data": {
      "text/plain": [
       "array(['', '36 months', '60 months'], dtype='<U69')"
      ]
     },
     "execution_count": 45,
     "metadata": {},
     "output_type": "execute_result"
    }
   ],
   "source": [
    "np.unique(arr_str[:, 2])"
   ]
  },
  {
   "cell_type": "code",
   "execution_count": 46,
   "id": "30ba436f",
   "metadata": {},
   "outputs": [
    {
     "data": {
      "text/plain": [
       "array(['36', '36', '36', ..., '36', '36', '36'], dtype='<U69')"
      ]
     },
     "execution_count": 46,
     "metadata": {},
     "output_type": "execute_result"
    }
   ],
   "source": [
    "# Removemos a palavra 'months'n (observe o espaço antes da palavra)\n",
    "arr_str[:, 2] = np.chararray.strip(arr_str[:, 2], \" months\")\n",
    "arr_str[:, 2]"
   ]
  },
  {
   "cell_type": "code",
   "execution_count": 47,
   "id": "2567c003",
   "metadata": {},
   "outputs": [],
   "source": [
    "# Mudamos o título da variável \n",
    "header_str[2] = \"term_months\""
   ]
  },
  {
   "cell_type": "code",
   "execution_count": 48,
   "id": "07bc9546",
   "metadata": {},
   "outputs": [
    {
     "data": {
      "text/plain": [
       "array(['36', '36', '36', ..., '36', '36', '36'], dtype='<U69')"
      ]
     },
     "execution_count": 48,
     "metadata": {},
     "output_type": "execute_result"
    }
   ],
   "source": [
    "# Substiuímos os valores ausentes pelo maior valor, no caso 60\n",
    "arr_str[:, 2] = np.where(arr_str[:, 2] == '', '60', arr_str[:, 2]); arr_str[:, 2]"
   ]
  },
  {
   "cell_type": "code",
   "execution_count": 49,
   "id": "e44797a8",
   "metadata": {},
   "outputs": [
    {
     "data": {
      "text/plain": [
       "array(['36', '60'], dtype='<U69')"
      ]
     },
     "execution_count": 49,
     "metadata": {},
     "output_type": "execute_result"
    }
   ],
   "source": [
    "# Extrai os valores únicos da varíavel\n",
    "np.unique(arr_str[:, 2])"
   ]
  },
  {
   "cell_type": "markdown",
   "id": "b37e3d52",
   "metadata": {},
   "source": [
    "## <font color='blue'>Pré-processamento da variável grade/sub_grade com </font> <font color='red'>Dicionário (Tipo de Label Encoding)</font>"
   ]
  },
  {
   "cell_type": "code",
   "execution_count": 50,
   "id": "11157835",
   "metadata": {},
   "outputs": [
    {
     "data": {
      "text/plain": [
       "array(['issue_date', 'loan_status', 'term_months', 'grade', 'sub_grade', 'verification_status', 'url', 'addr_state'], dtype='<U19')"
      ]
     },
     "execution_count": 50,
     "metadata": {},
     "output_type": "execute_result"
    }
   ],
   "source": [
    "header_str "
   ]
  },
  {
   "cell_type": "code",
   "execution_count": 51,
   "id": "8d1f32c6",
   "metadata": {},
   "outputs": [
    {
     "data": {
      "text/plain": [
       "array(['', 'A', 'B', 'C', 'D', 'E', 'F', 'G'], dtype='<U69')"
      ]
     },
     "execution_count": 51,
     "metadata": {},
     "output_type": "execute_result"
    }
   ],
   "source": [
    "# Extrai os valores únicos da variável\n",
    "np.unique(arr_str[:,3])"
   ]
  },
  {
   "cell_type": "code",
   "execution_count": 52,
   "id": "444d0e32",
   "metadata": {},
   "outputs": [
    {
     "data": {
      "text/plain": [
       "array(['', 'A1', 'A2', 'A3', 'A4', 'A5', 'B1', 'B2', 'B3', 'B4', 'B5', 'C1', 'C2', 'C3', 'C4', 'C5', 'D1', 'D2', 'D3', 'D4', 'D5', 'E1', 'E2', 'E3', 'E4', 'E5', 'F1', 'F2', 'F3', 'F4', 'F5', 'G1',\n",
       "       'G2', 'G3', 'G4', 'G5'], dtype='<U69')"
      ]
     },
     "execution_count": 52,
     "metadata": {},
     "output_type": "execute_result"
    }
   ],
   "source": [
    "# Extrai os valores únicos da variável\n",
    "np.unique(arr_str[:,4])"
   ]
  },
  {
   "cell_type": "markdown",
   "id": "b917f4df",
   "metadata": {},
   "source": [
    "> Vamos ajustar a varíavel sub_grade"
   ]
  },
  {
   "cell_type": "code",
   "execution_count": 53,
   "id": "700b4156",
   "metadata": {},
   "outputs": [
    {
     "data": {
      "text/plain": [
       "array(['A', 'B', 'C', 'D', 'E', 'F', 'G'], dtype='<U69')"
      ]
     },
     "execution_count": 53,
     "metadata": {},
     "output_type": "execute_result"
    }
   ],
   "source": [
    "np.unique(arr_str[:,3])[1:]"
   ]
  },
  {
   "cell_type": "code",
   "execution_count": 54,
   "id": "e2ddda1b",
   "metadata": {},
   "outputs": [],
   "source": [
    "# Loop para ajuste da variável sub_grade\n",
    "for i in np.unique(arr_str[:,3])[1:]:\n",
    "    arr_str[:,4] = np.where((arr_str[:,4] =='') & (arr_str[:,3] ==i), i + '5', arr_str[:,4])"
   ]
  },
  {
   "cell_type": "code",
   "execution_count": 55,
   "id": "e55ed66e",
   "metadata": {},
   "outputs": [
    {
     "data": {
      "text/plain": [
       "(array(['', 'A1', 'A2', 'A3', 'A4', 'A5', 'B1', 'B2', 'B3', 'B4', 'B5', 'C1', 'C2', 'C3', 'C4', 'C5', 'D1', 'D2', 'D3', 'D4', 'D5', 'E1', 'E2', 'E3', 'E4', 'E5', 'F1', 'F2', 'F3', 'F4', 'F5', 'G1',\n",
       "        'G2', 'G3', 'G4', 'G5'], dtype='<U69'),\n",
       " array([  9, 285, 278, 239, 323, 592, 509, 517, 530, 553, 633, 629, 567, 586, 564, 577, 391, 267, 250, 255, 288, 235, 162, 171, 139, 160,  94,  52,  34,  43,  24,  19,  10,   3,   7,   5]))"
      ]
     },
     "execution_count": 55,
     "metadata": {},
     "output_type": "execute_result"
    }
   ],
   "source": [
    "# Retorna categorias e suas respectivas contagens \n",
    "np.unique(arr_str[:,4], return_counts = True)"
   ]
  },
  {
   "cell_type": "code",
   "execution_count": 56,
   "id": "33e350d5",
   "metadata": {},
   "outputs": [],
   "source": [
    "# Substituímos valores por uma nova categoria\n",
    "arr_str[:,4] = np.where(arr_str[:,4]=='','H1', arr_str[:,4])"
   ]
  },
  {
   "cell_type": "code",
   "execution_count": 57,
   "id": "486450fc",
   "metadata": {},
   "outputs": [
    {
     "data": {
      "text/plain": [
       "array(['A1', 'A2', 'A3', 'A4', 'A5', 'B1', 'B2', 'B3', 'B4', 'B5', 'C1', 'C2', 'C3', 'C4', 'C5', 'D1', 'D2', 'D3', 'D4', 'D5', 'E1', 'E2', 'E3', 'E4', 'E5', 'F1', 'F2', 'F3', 'F4', 'F5', 'G1', 'G2',\n",
       "       'G3', 'G4', 'G5', 'H1'], dtype='<U69')"
      ]
     },
     "execution_count": 57,
     "metadata": {},
     "output_type": "execute_result"
    }
   ],
   "source": [
    "# Extrai os valores únicos da variável\n",
    "np.unique(arr_str[:,4])"
   ]
  },
  {
   "cell_type": "markdown",
   "id": "32cc376e",
   "metadata": {},
   "source": [
    "> Vamos remover a variável grade"
   ]
  },
  {
   "cell_type": "code",
   "execution_count": 58,
   "id": "5dc049a5",
   "metadata": {},
   "outputs": [],
   "source": [
    "# Não precisamos mais da variável grade. Podemosremover\n",
    "arr_str = np.delete(arr_str,3, axis = 1)"
   ]
  },
  {
   "cell_type": "code",
   "execution_count": 59,
   "id": "04a5e170",
   "metadata": {},
   "outputs": [
    {
     "data": {
      "text/plain": [
       "array(['C3', 'A5', 'B5', ..., 'A5', 'D2', 'A4'], dtype='<U69')"
      ]
     },
     "execution_count": 59,
     "metadata": {},
     "output_type": "execute_result"
    }
   ],
   "source": [
    "# Nova variável na coluna de índice 3\n",
    "arr_str[:,3]"
   ]
  },
  {
   "cell_type": "code",
   "execution_count": 60,
   "id": "466947c6",
   "metadata": {},
   "outputs": [],
   "source": [
    "# Não podemos esquecer de remover a coluna do array de nomes de colunas\n",
    "header_str = np.delete(header_str, 3)"
   ]
  },
  {
   "cell_type": "code",
   "execution_count": 61,
   "id": "33d27c38",
   "metadata": {},
   "outputs": [
    {
     "data": {
      "text/plain": [
       "'sub_grade'"
      ]
     },
     "execution_count": 61,
     "metadata": {},
     "output_type": "execute_result"
    }
   ],
   "source": [
    "header_str[3]"
   ]
  },
  {
   "cell_type": "markdown",
   "id": "db8c77e9",
   "metadata": {},
   "source": [
    "> Por fim, converteremos a variável sub_grade para sua representação numérica"
   ]
  },
  {
   "cell_type": "code",
   "execution_count": 62,
   "id": "d2cf8913",
   "metadata": {},
   "outputs": [
    {
     "data": {
      "text/plain": [
       "array(['A1', 'A2', 'A3', 'A4', 'A5', 'B1', 'B2', 'B3', 'B4', 'B5', 'C1', 'C2', 'C3', 'C4', 'C5', 'D1', 'D2', 'D3', 'D4', 'D5', 'E1', 'E2', 'E3', 'E4', 'E5', 'F1', 'F2', 'F3', 'F4', 'F5', 'G1', 'G2',\n",
       "       'G3', 'G4', 'G5', 'H1'], dtype='<U69')"
      ]
     },
     "execution_count": 62,
     "metadata": {},
     "output_type": "execute_result"
    }
   ],
   "source": [
    "# Extrai os valores únicos da variável\n",
    "np.unique(arr_str[:,3])"
   ]
  },
  {
   "cell_type": "code",
   "execution_count": 63,
   "id": "7bda60bf",
   "metadata": {},
   "outputs": [
    {
     "data": {
      "text/plain": [
       "'A1'"
      ]
     },
     "execution_count": 63,
     "metadata": {},
     "output_type": "execute_result"
    }
   ],
   "source": [
    "# Cria uma lista de chaves\n",
    "keys = list(np.unique(arr_str[:,3]))     \n",
    "keys[0]"
   ]
  },
  {
   "cell_type": "code",
   "execution_count": 64,
   "id": "a8534dfb",
   "metadata": {},
   "outputs": [
    {
     "data": {
      "text/plain": [
       "1"
      ]
     },
     "execution_count": 64,
     "metadata": {},
     "output_type": "execute_result"
    }
   ],
   "source": [
    "# Cria uma lista de valores\n",
    "values = list(range(1, np.unique(arr_str[:,3]).shape[0] + 1)) \n",
    "values[0]"
   ]
  },
  {
   "cell_type": "code",
   "execution_count": 65,
   "id": "b6f0efcd",
   "metadata": {},
   "outputs": [],
   "source": [
    "# Criamos então o dicionário\n",
    "dict_sub_grade = dict(zip(keys, values))"
   ]
  },
  {
   "cell_type": "code",
   "execution_count": 66,
   "id": "31c40c41",
   "metadata": {},
   "outputs": [
    {
     "data": {
      "text/plain": [
       "{'A1': 1,\n",
       " 'A2': 2,\n",
       " 'A3': 3,\n",
       " 'A4': 4,\n",
       " 'A5': 5,\n",
       " 'B1': 6,\n",
       " 'B2': 7,\n",
       " 'B3': 8,\n",
       " 'B4': 9,\n",
       " 'B5': 10,\n",
       " 'C1': 11,\n",
       " 'C2': 12,\n",
       " 'C3': 13,\n",
       " 'C4': 14,\n",
       " 'C5': 15,\n",
       " 'D1': 16,\n",
       " 'D2': 17,\n",
       " 'D3': 18,\n",
       " 'D4': 19,\n",
       " 'D5': 20,\n",
       " 'E1': 21,\n",
       " 'E2': 22,\n",
       " 'E3': 23,\n",
       " 'E4': 24,\n",
       " 'E5': 25,\n",
       " 'F1': 26,\n",
       " 'F2': 27,\n",
       " 'F3': 28,\n",
       " 'F4': 29,\n",
       " 'F5': 30,\n",
       " 'G1': 31,\n",
       " 'G2': 32,\n",
       " 'G3': 33,\n",
       " 'G4': 34,\n",
       " 'G5': 35,\n",
       " 'H1': 36}"
      ]
     },
     "execution_count": 66,
     "metadata": {},
     "output_type": "execute_result"
    }
   ],
   "source": [
    "dict_sub_grade"
   ]
  },
  {
   "cell_type": "code",
   "execution_count": 67,
   "id": "24c67533",
   "metadata": {},
   "outputs": [],
   "source": [
    "# Loop para substituir a string com as categorias pela representação numérica (frequência)\n",
    "for i in np.unique(arr_str[:,3]):\n",
    "        arr_str[:,3] = np.where(arr_str[:,3] == i, dict_sub_grade[i], arr_str[:,3])"
   ]
  },
  {
   "cell_type": "code",
   "execution_count": 68,
   "id": "2d1b64e0",
   "metadata": {},
   "outputs": [
    {
     "data": {
      "text/plain": [
       "array(['1', '10', '11', '12', '13', '14', '15', '16', '17', '18', '19', '2', '20', '21', '22', '23', '24', '25', '26', '27', '28', '29', '3', '30', '31', '32', '33', '34', '35', '36', '4', '5', '6',\n",
       "       '7', '8', '9'], dtype='<U69')"
      ]
     },
     "execution_count": 68,
     "metadata": {},
     "output_type": "execute_result"
    }
   ],
   "source": [
    "# Extrai os valores únicos da variável\n",
    "np.unique(arr_str[:,3])"
   ]
  },
  {
   "cell_type": "markdown",
   "id": "81853d0d",
   "metadata": {},
   "source": [
    "## <font color='blue'>Pré-processamento da variável Verification status com </font> <font color='red'>Binarização</font>"
   ]
  },
  {
   "cell_type": "code",
   "execution_count": 69,
   "id": "859ad2f4",
   "metadata": {},
   "outputs": [
    {
     "data": {
      "text/plain": [
       "array(['issue_date', 'loan_status', 'term_months', 'sub_grade', 'verification_status', 'url', 'addr_state'], dtype='<U19')"
      ]
     },
     "execution_count": 69,
     "metadata": {},
     "output_type": "execute_result"
    }
   ],
   "source": [
    "header_str"
   ]
  },
  {
   "cell_type": "code",
   "execution_count": 70,
   "id": "3101fd7d",
   "metadata": {},
   "outputs": [
    {
     "data": {
      "text/plain": [
       "array(['', 'Not Verified', 'Source Verified', 'Verified'], dtype='<U69')"
      ]
     },
     "execution_count": 70,
     "metadata": {},
     "output_type": "execute_result"
    }
   ],
   "source": [
    "np.unique(arr_str[:,4])"
   ]
  },
  {
   "cell_type": "code",
   "execution_count": 71,
   "id": "8b954152",
   "metadata": {},
   "outputs": [],
   "source": [
    "# Checamos agora os valores da variável e comparamos com o array anterior convertendo a variável para valores binários\n",
    "# Chamamos isso de binarização\n",
    "\n",
    "not_verified = np.array(['','Not Verified'])\n",
    "\n",
    "arr_str[:, 4] = np.where(np.isin(arr_str[:,4],not_verified),0,1)"
   ]
  },
  {
   "cell_type": "code",
   "execution_count": 72,
   "id": "7001d3c9",
   "metadata": {},
   "outputs": [
    {
     "data": {
      "text/plain": [
       "array(['0', '1'], dtype='<U69')"
      ]
     },
     "execution_count": 72,
     "metadata": {},
     "output_type": "execute_result"
    }
   ],
   "source": [
    "# Extrai os valores únicos da variável\n",
    "np.unique(arr_str[:,4])"
   ]
  },
  {
   "cell_type": "markdown",
   "id": "bf214283",
   "metadata": {},
   "source": [
    "## <font color='blue'>Pré-Processamento da variável url com </font><font color='red'>Extração de ID</font>"
   ]
  },
  {
   "cell_type": "code",
   "execution_count": 73,
   "id": "79049a14",
   "metadata": {},
   "outputs": [
    {
     "data": {
      "text/plain": [
       "array(['issue_date', 'loan_status', 'term_months', 'sub_grade', 'verification_status', 'url', 'addr_state'], dtype='<U19')"
      ]
     },
     "execution_count": 73,
     "metadata": {},
     "output_type": "execute_result"
    }
   ],
   "source": [
    "header_str"
   ]
  },
  {
   "cell_type": "code",
   "execution_count": 74,
   "id": "c091ccd2",
   "metadata": {},
   "outputs": [
    {
     "data": {
      "text/plain": [
       "array(['https://www.lendingclub.com/browse/loanDetail.action?loan_id=12606806', 'https://www.lendingclub.com/browse/loanDetail.action?loan_id=13026045',\n",
       "       'https://www.lendingclub.com/browse/loanDetail.action?loan_id=1312426', ..., 'https://www.lendingclub.com/browse/loanDetail.action?loan_id=8138291',\n",
       "       'https://www.lendingclub.com/browse/loanDetail.action?loan_id=8214572', 'https://www.lendingclub.com/browse/loanDetail.action?loan_id=849994'], dtype='<U69')"
      ]
     },
     "execution_count": 74,
     "metadata": {},
     "output_type": "execute_result"
    }
   ],
   "source": [
    "np.unique(arr_str[:, 5])"
   ]
  },
  {
   "cell_type": "code",
   "execution_count": 75,
   "id": "a7663186",
   "metadata": {},
   "outputs": [
    {
     "data": {
      "text/plain": [
       "chararray(['48010226', '57693261', '59432726', ..., '50415990', '46154151', '66055249'], dtype='<U69')"
      ]
     },
     "execution_count": 75,
     "metadata": {},
     "output_type": "execute_result"
    }
   ],
   "source": [
    "# Extraímos o id ao final de cada url\n",
    "np.chararray.strip(arr_str[:,5], \"https://www.lendingclub.com/browse/loanDetail.action?loan_id=\")"
   ]
  },
  {
   "cell_type": "code",
   "execution_count": 76,
   "id": "e0175b4b",
   "metadata": {},
   "outputs": [],
   "source": [
    "# Substituímos a url pelo valor do id na url\n",
    "arr_str[:,5] = np.chararray.strip(arr_str[:,5], \n",
    "                                      \"https://www.lendingclub.com/browse/loanDetail.action?loan_id=\")"
   ]
  },
  {
   "cell_type": "code",
   "execution_count": 77,
   "id": "f5fc35ea",
   "metadata": {},
   "outputs": [
    {
     "data": {
      "text/plain": [
       "array([48010226, 57693261, 59432726, ..., 50415990, 46154151, 66055249], dtype=int32)"
      ]
     },
     "execution_count": 77,
     "metadata": {},
     "output_type": "execute_result"
    }
   ],
   "source": [
    "# Convertemos o tipo para int32\n",
    "arr_str[:,5].astype(dtype = np.int32)"
   ]
  },
  {
   "cell_type": "code",
   "execution_count": 78,
   "id": "1ec26024",
   "metadata": {},
   "outputs": [
    {
     "data": {
      "text/plain": [
       "array([48010226, 57693261, 59432726, ..., 50415990, 46154151, 66055249], dtype=int32)"
      ]
     },
     "execution_count": 78,
     "metadata": {},
     "output_type": "execute_result"
    }
   ],
   "source": [
    "# Parece que esse id está presente na primeira coluna do conjunto de dados.\n",
    "# Vamos converter para int 32 e comparar\n",
    "arr_num[:,0].astype(dtype = np.int32)"
   ]
  },
  {
   "cell_type": "code",
   "execution_count": 79,
   "id": "8eb56be0",
   "metadata": {},
   "outputs": [
    {
     "data": {
      "text/plain": [
       "True"
      ]
     },
     "execution_count": 79,
     "metadata": {},
     "output_type": "execute_result"
    }
   ],
   "source": [
    "np.array_equal(arr_num[:, 0].astype(dtype = np.int32), arr_str[:,5].astype(dtype= np.int32))"
   ]
  },
  {
   "cell_type": "markdown",
   "id": "2aa62ad9",
   "metadata": {},
   "source": [
    "> Sim, é a mesma informação. Vamos então remover uma das colunas."
   ]
  },
  {
   "cell_type": "code",
   "execution_count": 80,
   "id": "dad3b45a",
   "metadata": {},
   "outputs": [],
   "source": [
    "# Remove do array de dados\n",
    "arr_str = np.delete(arr_str, 5, axis = 1)"
   ]
  },
  {
   "cell_type": "code",
   "execution_count": 81,
   "id": "06196750",
   "metadata": {},
   "outputs": [],
   "source": [
    "# Remove do array de nome de coluna\n",
    "header_str = np.delete(header_str, 5)"
   ]
  },
  {
   "cell_type": "code",
   "execution_count": 82,
   "id": "1cf6ae09",
   "metadata": {},
   "outputs": [
    {
     "data": {
      "text/plain": [
       "array(['CA', 'NY', 'PA', ..., 'CA', 'OH', 'IL'], dtype='<U69')"
      ]
     },
     "execution_count": 82,
     "metadata": {},
     "output_type": "execute_result"
    }
   ],
   "source": [
    "# Nova coluna no índice 5\n",
    "arr_str[:,5]"
   ]
  },
  {
   "cell_type": "code",
   "execution_count": 83,
   "id": "e5e6890e",
   "metadata": {},
   "outputs": [
    {
     "data": {
      "text/plain": [
       "array(['issue_date', 'loan_status', 'term_months', 'sub_grade', 'verification_status', 'addr_state'], dtype='<U19')"
      ]
     },
     "execution_count": 83,
     "metadata": {},
     "output_type": "execute_result"
    }
   ],
   "source": [
    "# Nova lista de colunas\n",
    "header_str"
   ]
  },
  {
   "cell_type": "code",
   "execution_count": 84,
   "id": "ffeef168",
   "metadata": {},
   "outputs": [
    {
     "data": {
      "text/plain": [
       "array([48010226., 57693261., 59432726., ..., 50415990., 46154151., 66055249.])"
      ]
     },
     "execution_count": 84,
     "metadata": {},
     "output_type": "execute_result"
    }
   ],
   "source": [
    "# Coluna id\n",
    "arr_num[:,0]"
   ]
  },
  {
   "cell_type": "code",
   "execution_count": 85,
   "id": "510375b2",
   "metadata": {},
   "outputs": [
    {
     "data": {
      "text/plain": [
       "array(['id', 'loan_amnt', 'funded_amnt', 'int_rate', 'installment', 'total_pymnt'], dtype='<U19')"
      ]
     },
     "execution_count": 85,
     "metadata": {},
     "output_type": "execute_result"
    }
   ],
   "source": [
    "# Coluna id agora faz parte do array de numéricos\n",
    "header_num"
   ]
  },
  {
   "cell_type": "markdown",
   "id": "c5e84600",
   "metadata": {},
   "source": [
    "## <font color='blue'>Pré-Processamento da variável address com </font><font color='red'>Categorização</font>"
   ]
  },
  {
   "cell_type": "code",
   "execution_count": 86,
   "id": "6766278c",
   "metadata": {},
   "outputs": [
    {
     "data": {
      "text/plain": [
       "array(['issue_date', 'loan_status', 'term_months', 'sub_grade', 'verification_status', 'addr_state'], dtype='<U19')"
      ]
     },
     "execution_count": 86,
     "metadata": {},
     "output_type": "execute_result"
    }
   ],
   "source": [
    "header_str"
   ]
  },
  {
   "cell_type": "code",
   "execution_count": 87,
   "id": "e8d0296e",
   "metadata": {},
   "outputs": [],
   "source": [
    "# Vamos ajustar o nome da coluna\n",
    "header_str[5] = \"state_address\""
   ]
  },
  {
   "cell_type": "code",
   "execution_count": 88,
   "id": "90449db1",
   "metadata": {},
   "outputs": [
    {
     "data": {
      "text/plain": [
       "array(['', 'AK', 'AL', 'AR', 'AZ', 'CA', 'CO', 'CT', 'DC', 'DE', 'FL', 'GA', 'HI', 'IL', 'IN', 'KS', 'KY', 'LA', 'MA', 'MD', 'ME', 'MI', 'MN', 'MO', 'MS', 'MT', 'NC', 'ND', 'NE', 'NH', 'NJ', 'NM',\n",
       "       'NV', 'NY', 'OH', 'OK', 'OR', 'PA', 'RI', 'SC', 'SD', 'TN', 'TX', 'UT', 'VA', 'VT', 'WA', 'WI', 'WV', 'WY'], dtype='<U69')"
      ]
     },
     "execution_count": 88,
     "metadata": {},
     "output_type": "execute_result"
    }
   ],
   "source": [
    "np.unique(arr_str[:,5])"
   ]
  },
  {
   "cell_type": "code",
   "execution_count": 89,
   "id": "329d1d2e",
   "metadata": {},
   "outputs": [],
   "source": [
    "# Extrai nomes e contagens\n",
    "state_names , state_count = np.unique(arr_str[:,5], return_counts = True)"
   ]
  },
  {
   "cell_type": "code",
   "execution_count": 90,
   "id": "da1ae546",
   "metadata": {},
   "outputs": [],
   "source": [
    "# Ordem descrescente\n",
    "\n",
    "state_count_sorted = np.argsort(-state_count)"
   ]
  },
  {
   "cell_type": "code",
   "execution_count": 91,
   "id": "54dd61a4",
   "metadata": {},
   "outputs": [
    {
     "data": {
      "text/plain": [
       "(array(['CA', 'NY', 'TX', 'FL', '', 'IL', 'NJ', 'GA', 'PA', 'OH', 'MI', 'NC', 'VA', 'MD', 'AZ', 'WA', 'MA', 'CO', 'MO', 'MN', 'IN', 'WI', 'CT', 'TN', 'NV', 'AL', 'LA', 'OR', 'SC', 'KY', 'KS', 'OK',\n",
       "        'UT', 'AR', 'MS', 'NH', 'NM', 'WV', 'HI', 'RI', 'MT', 'DE', 'DC', 'WY', 'AK', 'NE', 'SD', 'VT', 'ND', 'ME'], dtype='<U69'),\n",
       " array([1336,  777,  758,  690,  500,  389,  341,  321,  320,  312,  267,  261,  242,  222,  220,  216,  210,  201,  160,  156,  152,  148,  143,  143,  130,  119,  116,  108,  107,   84,   84,   83,\n",
       "          74,   74,   61,   58,   57,   49,   44,   40,   28,   27,   27,   27,   26,   25,   24,   17,   16,   10]))"
      ]
     },
     "execution_count": 91,
     "metadata": {},
     "output_type": "execute_result"
    }
   ],
   "source": [
    "# Imprime o resultado\n",
    "state_names[state_count_sorted], state_count[state_count_sorted]"
   ]
  },
  {
   "cell_type": "code",
   "execution_count": 92,
   "id": "0d4ac7e9",
   "metadata": {},
   "outputs": [],
   "source": [
    "# Substituímos valores ausentes por zero\n",
    "arr_str[:,5] = np.where(arr_str[:,5] == '', 0, arr_str[:,5])"
   ]
  },
  {
   "cell_type": "code",
   "execution_count": 93,
   "id": "565cf47f",
   "metadata": {},
   "outputs": [],
   "source": [
    "# Separamos os estados por regiões\n",
    "states_west = np.array(['WA', 'OR','CA','NV','ID','MT', 'WY','UT','CO', 'AZ','NM','HI','AK'])\n",
    "states_south = np.array(['TX','OK','AR','LA','MS','AL','TN','KY','FL','GA','SC','NC','VA','WV','MD','DE','DC'])\n",
    "states_midwest = np.array(['ND','SD','NE','KS','MN','IA','MO','WI','IL','IN','MI','OH'])\n",
    "states_east = np.array(['PA','NY','NJ','CT','MA','VT','NH','ME','RI'])"
   ]
  },
  {
   "cell_type": "code",
   "execution_count": 94,
   "id": "db26df0f",
   "metadata": {},
   "outputs": [],
   "source": [
    "# Agora substituímos cada estado pelo id da sua região\n",
    "arr_str[:,5] = np.where(np.isin(arr_str[:,5], states_west), 1, arr_str[:,5])\n",
    "arr_str[:,5] = np.where(np.isin(arr_str[:,5], states_south), 2, arr_str[:,5])\n",
    "arr_str[:,5] = np.where(np.isin(arr_str[:,5], states_midwest), 3, arr_str[:,5])\n",
    "arr_str[:,5] = np.where(np.isin(arr_str[:,5], states_east), 4, arr_str[:,5])"
   ]
  },
  {
   "cell_type": "code",
   "execution_count": 95,
   "id": "32bd6f69",
   "metadata": {},
   "outputs": [
    {
     "data": {
      "text/plain": [
       "array(['0', '1', '2', '3', '4'], dtype='<U69')"
      ]
     },
     "execution_count": 95,
     "metadata": {},
     "output_type": "execute_result"
    }
   ],
   "source": [
    "# Extrai os valores úinicos\n",
    "np.unique(arr_str[:,5])"
   ]
  },
  {
   "cell_type": "markdown",
   "id": "b684160c",
   "metadata": {},
   "source": [
    "## <font color='blue'> Convertendo o Array</font>\n",
    "\n",
    "Nosso array de strings agora é um array numérico. Vamos ajustar o tipo de dado."
   ]
  },
  {
   "cell_type": "code",
   "execution_count": 96,
   "id": "d3a0f8e2",
   "metadata": {},
   "outputs": [
    {
     "data": {
      "text/plain": [
       "array([['5', '1', '36', '13', '1', '1'],\n",
       "       ['0', '1', '36', '5', '1', '4'],\n",
       "       ['9', '1', '36', '10', '1', '4'],\n",
       "       ...,\n",
       "       ['6', '1', '36', '5', '1', '1'],\n",
       "       ['4', '1', '36', '17', '1', '3'],\n",
       "       ['12', '1', '36', '4', '0', '3']], dtype='<U69')"
      ]
     },
     "execution_count": 96,
     "metadata": {},
     "output_type": "execute_result"
    }
   ],
   "source": [
    "arr_str"
   ]
  },
  {
   "cell_type": "code",
   "execution_count": 97,
   "id": "ede1a202",
   "metadata": {},
   "outputs": [
    {
     "data": {
      "text/plain": [
       "array([[ 5,  1, 36, 13,  1,  1],\n",
       "       [ 0,  1, 36,  5,  1,  4],\n",
       "       [ 9,  1, 36, 10,  1,  4],\n",
       "       ...,\n",
       "       [ 6,  1, 36,  5,  1,  1],\n",
       "       [ 4,  1, 36, 17,  1,  3],\n",
       "       [12,  1, 36,  4,  0,  3]])"
      ]
     },
     "execution_count": 97,
     "metadata": {},
     "output_type": "execute_result"
    }
   ],
   "source": [
    "arr_str = arr_str.astype(int); arr_str"
   ]
  },
  {
   "cell_type": "markdown",
   "id": "bd080ce9",
   "metadata": {},
   "source": [
    "## <font color='blue'>Checkpoint com Variáveis do Tipo String Limpas e Pré-Processadas</font>\n",
    "\n",
    "*Checkpoint 2**\n",
    "\n",
    "Concluída a primeira parte, vamos gravar o checkpooint."
   ]
  },
  {
   "cell_type": "code",
   "execution_count": 98,
   "id": "1ea62f42",
   "metadata": {},
   "outputs": [],
   "source": [
    "checkpoint_strings = checkpoint(\"dados/Checkpoint-Strings\", header_str, arr_str)"
   ]
  },
  {
   "cell_type": "code",
   "execution_count": 99,
   "id": "3b935bc1",
   "metadata": {},
   "outputs": [
    {
     "data": {
      "text/plain": [
       "array(['issue_date', 'loan_status', 'term_months', 'sub_grade', 'verification_status', 'state_address'], dtype='<U19')"
      ]
     },
     "execution_count": 99,
     "metadata": {},
     "output_type": "execute_result"
    }
   ],
   "source": [
    "checkpoint_strings['arr_0']"
   ]
  },
  {
   "cell_type": "code",
   "execution_count": 100,
   "id": "01135e6e",
   "metadata": {},
   "outputs": [
    {
     "data": {
      "text/plain": [
       "True"
      ]
     },
     "execution_count": 100,
     "metadata": {},
     "output_type": "execute_result"
    }
   ],
   "source": [
    "np.array_equal(checkpoint_strings['data'], arr_str)"
   ]
  },
  {
   "cell_type": "markdown",
   "id": "9fe0c86f",
   "metadata": {},
   "source": [
    "## <font color='blue'>Manipulando Colunas Numéricas</font>"
   ]
  },
  {
   "cell_type": "code",
   "execution_count": 101,
   "id": "22e3f12e",
   "metadata": {},
   "outputs": [
    {
     "data": {
      "text/plain": [
       "array([[48010226.  ,    35000.  ,    35000.  ,       13.33,     1184.86,     9452.96],\n",
       "       [57693261.  ,    30000.  ,    30000.  , 68616520.  ,      938.57,     4679.7 ],\n",
       "       [59432726.  ,    15000.  ,    15000.  , 68616520.  ,      494.86,     1969.83],\n",
       "       ...,\n",
       "       [50415990.  ,    10000.  ,    10000.  , 68616520.  , 68616520.  ,     2185.64],\n",
       "       [46154151.  , 68616520.  ,    10000.  ,       16.55,      354.3 ,     3199.4 ],\n",
       "       [66055249.  ,    10000.  ,    10000.  , 68616520.  ,      309.97,      301.9 ]])"
      ]
     },
     "execution_count": 101,
     "metadata": {},
     "output_type": "execute_result"
    }
   ],
   "source": [
    "# Visualixa os dados\n",
    "arr_num"
   ]
  },
  {
   "cell_type": "code",
   "execution_count": 102,
   "id": "89502b97",
   "metadata": {},
   "outputs": [
    {
     "data": {
      "text/plain": [
       "array(['id', 'loan_amnt', 'funded_amnt', 'int_rate', 'installment', 'total_pymnt'], dtype='<U19')"
      ]
     },
     "execution_count": 102,
     "metadata": {},
     "output_type": "execute_result"
    }
   ],
   "source": [
    "# Nomes das colunas\n",
    "header_num"
   ]
  },
  {
   "cell_type": "code",
   "execution_count": 103,
   "id": "2b170869",
   "metadata": {},
   "outputs": [
    {
     "data": {
      "text/plain": [
       "0"
      ]
     },
     "execution_count": 103,
     "metadata": {},
     "output_type": "execute_result"
    }
   ],
   "source": [
    "# Não temos valor ausente, pos ao carregar os dados substituímos por um valor arbitrário\n",
    "np.isnan(arr_num).sum()"
   ]
  },
  {
   "cell_type": "code",
   "execution_count": 104,
   "id": "b5868be2",
   "metadata": {},
   "outputs": [
    {
     "data": {
      "text/plain": [
       "68616520.0"
      ]
     },
     "execution_count": 104,
     "metadata": {},
     "output_type": "execute_result"
    }
   ],
   "source": [
    "valor_coringa"
   ]
  },
  {
   "cell_type": "code",
   "execution_count": 105,
   "id": "958c870f",
   "metadata": {},
   "outputs": [
    {
     "data": {
      "text/plain": [
       "array([False, False, False, ..., False, False, False])"
      ]
     },
     "execution_count": 105,
     "metadata": {},
     "output_type": "execute_result"
    }
   ],
   "source": [
    "# Podemos checar se uma coluna foi preenchida com o valor coringa\n",
    "np.isin(arr_num[:,0], valor_coringa)"
   ]
  },
  {
   "cell_type": "code",
   "execution_count": 106,
   "id": "0521fad7",
   "metadata": {},
   "outputs": [
    {
     "data": {
      "text/plain": [
       "0"
      ]
     },
     "execution_count": 106,
     "metadata": {},
     "output_type": "execute_result"
    }
   ],
   "source": [
    "# Podemos checar se uma coluna foi preenchida com o valor coringa\n",
    "np.isin(arr_num[:,0], valor_coringa).sum()"
   ]
  },
  {
   "cell_type": "markdown",
   "id": "9bcf333f",
   "metadata": {},
   "source": [
    "> Vamos criar um array de estatísticas, especificamente valor mínimo, máximo e média de cada variável. Usaremos isso noo tratamento de valores ausentes (preenchidos com o valor coringa)."
   ]
  },
  {
   "cell_type": "code",
   "execution_count": 107,
   "id": "eb9ab263",
   "metadata": {},
   "outputs": [],
   "source": [
    "# Criamos um array com valor mínimo, média e valor máximo ignorando nan\n",
    "# Usaremos isso no tratamento de valores ausentes\n",
    "arr_stats = np.array([np.nanmin(dados, axis = 0), media_ignorando_nan, np.nanmax(dados, axis = 0)])"
   ]
  },
  {
   "cell_type": "code",
   "execution_count": 108,
   "id": "c88b58e8",
   "metadata": {},
   "outputs": [
    {
     "name": "stdout",
     "output_type": "stream",
     "text": [
      "[[  373332.           nan     1000.           nan     1000.           nan        6.         31.42         nan         nan         nan         nan         nan        0.  ]\n",
      " [54015809.19         nan    15273.46         nan    15311.04         nan       16.62      440.92         nan         nan         nan         nan         nan     3143.85]\n",
      " [68616519.           nan    35000.           nan    35000.           nan       28.99     1372.97         nan         nan         nan         nan         nan    41913.62]]\n"
     ]
    }
   ],
   "source": [
    "print(arr_stats)"
   ]
  },
  {
   "cell_type": "code",
   "execution_count": 109,
   "id": "a272ec24",
   "metadata": {},
   "outputs": [
    {
     "data": {
      "text/plain": [
       "array([[  373332.  ,     1000.  ,     1000.  ,        6.  ,       31.42,        0.  ],\n",
       "       [54015809.19,    15273.46,    15311.04,       16.62,      440.92,     3143.85],\n",
       "       [68616519.  ,    35000.  ,    35000.  ,       28.99,     1372.97,    41913.62]])"
      ]
     },
     "execution_count": 109,
     "metadata": {},
     "output_type": "execute_result"
    }
   ],
   "source": [
    "arr_stats[:, colunas_numericas]"
   ]
  },
  {
   "cell_type": "markdown",
   "id": "be47aa17",
   "metadata": {},
   "source": [
    "## <font color='blue'>Pré-Processamento da Variável funded_amnt</font>"
   ]
  },
  {
   "cell_type": "code",
   "execution_count": 110,
   "id": "fcda42e9",
   "metadata": {},
   "outputs": [
    {
     "data": {
      "text/plain": [
       "array([35000., 30000., 15000., ..., 10000., 10000., 10000.])"
      ]
     },
     "execution_count": 110,
     "metadata": {},
     "output_type": "execute_result"
    }
   ],
   "source": [
    "# Visualiza os dados\n",
    "arr_num[:,2]"
   ]
  },
  {
   "cell_type": "code",
   "execution_count": 111,
   "id": "b949cdb6",
   "metadata": {},
   "outputs": [
    {
     "data": {
      "text/plain": [
       "1000.0"
      ]
     },
     "execution_count": 111,
     "metadata": {},
     "output_type": "execute_result"
    }
   ],
   "source": [
    "arr_stats[0, colunas_numericas[2]]"
   ]
  },
  {
   "cell_type": "code",
   "execution_count": 112,
   "id": "3ec33924",
   "metadata": {},
   "outputs": [],
   "source": [
    "# Ajustamos o conteúdo da coluna\n",
    "arr_num[:,2] = np.where(arr_num[:,2] == valor_coringa, arr_stats[0, colunas_numericas[2]], arr_num[:,2])"
   ]
  },
  {
   "cell_type": "code",
   "execution_count": 113,
   "id": "65e68a4c",
   "metadata": {},
   "outputs": [
    {
     "data": {
      "text/plain": [
       "array([35000., 30000., 15000., ..., 10000., 10000., 10000.])"
      ]
     },
     "execution_count": 113,
     "metadata": {},
     "output_type": "execute_result"
    }
   ],
   "source": [
    "arr_num[:,2]"
   ]
  },
  {
   "cell_type": "markdown",
   "id": "e65ed244",
   "metadata": {},
   "source": [
    "## <font color='blue'>Pré-Processamento das Variáveis loan_amnt, int_rate, installment e total_pymnt</font>"
   ]
  },
  {
   "cell_type": "code",
   "execution_count": 114,
   "id": "01b93440",
   "metadata": {},
   "outputs": [
    {
     "data": {
      "text/plain": [
       "array(['id', 'loan_amnt', 'funded_amnt', 'int_rate', 'installment', 'total_pymnt'], dtype='<U19')"
      ]
     },
     "execution_count": 114,
     "metadata": {},
     "output_type": "execute_result"
    }
   ],
   "source": [
    "# Nomes das colunas\n",
    "header_num"
   ]
  },
  {
   "cell_type": "code",
   "execution_count": 115,
   "id": "e1c7a751",
   "metadata": {},
   "outputs": [],
   "source": [
    "# Loop para substituir o valor ausente (valor_coringa) pelos valores do array de estatísticas\n",
    "for i in [1,3,4,5]:\n",
    "    arr_num[:,i] = np.where(arr_num[:,i] == valor_coringa, \n",
    "                                arr_stats[2, colunas_numericas[i]], \n",
    "                                arr_num[:,i])"
   ]
  },
  {
   "cell_type": "code",
   "execution_count": 116,
   "id": "72dfd638",
   "metadata": {},
   "outputs": [
    {
     "data": {
      "text/plain": [
       "array([[48010226.  ,    35000.  ,    35000.  ,       13.33,     1184.86,     9452.96],\n",
       "       [57693261.  ,    30000.  ,    30000.  ,       28.99,      938.57,     4679.7 ],\n",
       "       [59432726.  ,    15000.  ,    15000.  ,       28.99,      494.86,     1969.83],\n",
       "       ...,\n",
       "       [50415990.  ,    10000.  ,    10000.  ,       28.99,     1372.97,     2185.64],\n",
       "       [46154151.  ,    35000.  ,    10000.  ,       16.55,      354.3 ,     3199.4 ],\n",
       "       [66055249.  ,    10000.  ,    10000.  ,       28.99,      309.97,      301.9 ]])"
      ]
     },
     "execution_count": 116,
     "metadata": {},
     "output_type": "execute_result"
    }
   ],
   "source": [
    "arr_num"
   ]
  },
  {
   "cell_type": "markdown",
   "id": "0bb33d1c",
   "metadata": {},
   "source": [
    "## <font color='blue'>Trabalhando com o Segundo Dataset</font>"
   ]
  },
  {
   "cell_type": "markdown",
   "id": "6a1b7774",
   "metadata": {},
   "source": [
    "> Vamos carregar os dados de cotação USD - EURO. Cada linha do dataset corresponde à taxa de câmbio para um mês em um ano."
   ]
  },
  {
   "cell_type": "code",
   "execution_count": 117,
   "id": "9da6a9aa",
   "metadata": {},
   "outputs": [],
   "source": [
    "# Carrega o segundo dataset\n",
    "dados_cot = np.genfromtxt(\"dados/dataset2.csv\", \n",
    "                          delimiter = ',', \n",
    "                          autostrip = True, \n",
    "                          skip_header = 1, \n",
    "                          usecols = 3)"
   ]
  },
  {
   "cell_type": "code",
   "execution_count": 118,
   "id": "204a504b",
   "metadata": {},
   "outputs": [
    {
     "data": {
      "text/plain": [
       "array([1.13, 1.12, 1.08, 1.11, 1.1 , 1.12, 1.09, 1.13, 1.13, 1.1 , 1.06, 1.09])"
      ]
     },
     "execution_count": 118,
     "metadata": {},
     "output_type": "execute_result"
    }
   ],
   "source": [
    "# Visualiza\n",
    "dados_cot"
   ]
  },
  {
   "cell_type": "code",
   "execution_count": 119,
   "id": "1528ddf0",
   "metadata": {},
   "outputs": [
    {
     "data": {
      "text/plain": [
       "array(['issue_date', 'loan_status', 'term_months', 'sub_grade', 'verification_status', 'state_address'], dtype='<U19')"
      ]
     },
     "execution_count": 119,
     "metadata": {},
     "output_type": "execute_result"
    }
   ],
   "source": [
    "# Nomes de colunas\n",
    "header_str"
   ]
  },
  {
   "cell_type": "code",
   "execution_count": 120,
   "id": "a9da674c",
   "metadata": {},
   "outputs": [
    {
     "data": {
      "text/plain": [
       "array([[ 5,  1, 36, 13,  1,  1],\n",
       "       [ 0,  1, 36,  5,  1,  4],\n",
       "       [ 9,  1, 36, 10,  1,  4],\n",
       "       ...,\n",
       "       [ 6,  1, 36,  5,  1,  1],\n",
       "       [ 4,  1, 36, 17,  1,  3],\n",
       "       [12,  1, 36,  4,  0,  3]])"
      ]
     },
     "execution_count": 120,
     "metadata": {},
     "output_type": "execute_result"
    }
   ],
   "source": [
    "# Dados\n",
    "arr_str"
   ]
  },
  {
   "cell_type": "code",
   "execution_count": 121,
   "id": "47c8bab4",
   "metadata": {},
   "outputs": [
    {
     "data": {
      "text/plain": [
       "array([ 5,  0,  9, ...,  6,  4, 12])"
      ]
     },
     "execution_count": 121,
     "metadata": {},
     "output_type": "execute_result"
    }
   ],
   "source": [
    "# A coluna 0 do array de strings é o mês\n",
    "arr_str[:,0]"
   ]
  },
  {
   "cell_type": "code",
   "execution_count": 122,
   "id": "79aaa0e5",
   "metadata": {},
   "outputs": [],
   "source": [
    "# Vamos atribuir a coluna de mês à variável chamada exchange_rate\n",
    "exchange_rate = arr_str[:,0]"
   ]
  },
  {
   "cell_type": "code",
   "execution_count": 123,
   "id": "ca77c113",
   "metadata": {},
   "outputs": [],
   "source": [
    "# Loop para preencher a variável exchange_rate com a taxa correspondente ao mês\n",
    "# Usamos dados_cot[i - 1] devido a forma como carregamos os meses para comportar o zero\n",
    "for i in range(1,13):\n",
    "    exchange_rate = np.where(exchange_rate == i, dados_cot[i - 1], exchange_rate)    "
   ]
  },
  {
   "cell_type": "code",
   "execution_count": 124,
   "id": "ab5c3365",
   "metadata": {},
   "outputs": [
    {
     "data": {
      "text/plain": [
       "array([1.1 , 0.  , 1.13, ..., 1.12, 1.11, 1.09])"
      ]
     },
     "execution_count": 124,
     "metadata": {},
     "output_type": "execute_result"
    }
   ],
   "source": [
    "exchange_rate"
   ]
  },
  {
   "cell_type": "code",
   "execution_count": 125,
   "id": "693ead3b",
   "metadata": {},
   "outputs": [],
   "source": [
    "# Onde a taxa de câmbio estiver com zero substituímos pela média\n",
    "exchange_rate = np.where(exchange_rate == 0, np.mean(dados_cot), exchange_rate)"
   ]
  },
  {
   "cell_type": "code",
   "execution_count": 126,
   "id": "685d538a",
   "metadata": {},
   "outputs": [
    {
     "data": {
      "text/plain": [
       "array([1.1 , 1.11, 1.13, ..., 1.12, 1.11, 1.09])"
      ]
     },
     "execution_count": 126,
     "metadata": {},
     "output_type": "execute_result"
    }
   ],
   "source": [
    "exchange_rate"
   ]
  },
  {
   "cell_type": "code",
   "execution_count": 127,
   "id": "899f569a",
   "metadata": {},
   "outputs": [
    {
     "data": {
      "text/plain": [
       "(10000,)"
      ]
     },
     "execution_count": 127,
     "metadata": {},
     "output_type": "execute_result"
    }
   ],
   "source": [
    "exchange_rate.shape"
   ]
  },
  {
   "cell_type": "code",
   "execution_count": 128,
   "id": "22419310",
   "metadata": {},
   "outputs": [
    {
     "data": {
      "text/plain": [
       "(10000, 6)"
      ]
     },
     "execution_count": 128,
     "metadata": {},
     "output_type": "execute_result"
    }
   ],
   "source": [
    "arr_num.shape"
   ]
  },
  {
   "cell_type": "code",
   "execution_count": 129,
   "id": "44be3852",
   "metadata": {},
   "outputs": [],
   "source": [
    "exchange_rate = np.reshape(exchange_rate, (10000,1))"
   ]
  },
  {
   "cell_type": "code",
   "execution_count": 130,
   "id": "51986846",
   "metadata": {},
   "outputs": [],
   "source": [
    "# Concatenação dos arrays\n",
    "arr_num = np.hstack((arr_num, exchange_rate))"
   ]
  },
  {
   "cell_type": "code",
   "execution_count": 131,
   "id": "26b01a21",
   "metadata": {},
   "outputs": [],
   "source": [
    "# Inclui o nome da coluna no array de nomes de colunas\n",
    "header_num = np.concatenate((header_num, np.array(['exchange_rate'])))"
   ]
  },
  {
   "cell_type": "code",
   "execution_count": 132,
   "id": "9932d3b0",
   "metadata": {},
   "outputs": [
    {
     "data": {
      "text/plain": [
       "array(['id', 'loan_amnt', 'funded_amnt', 'int_rate', 'installment', 'total_pymnt', 'exchange_rate'], dtype='<U19')"
      ]
     },
     "execution_count": 132,
     "metadata": {},
     "output_type": "execute_result"
    }
   ],
   "source": [
    "header_num"
   ]
  },
  {
   "cell_type": "markdown",
   "id": "658a642d",
   "metadata": {},
   "source": [
    "> Vamos criar colunas para as taxas de câmbio em USD e EURO."
   ]
  },
  {
   "cell_type": "code",
   "execution_count": 133,
   "id": "4e828254",
   "metadata": {},
   "outputs": [
    {
     "data": {
      "text/plain": [
       "array(['id', 'loan_amnt', 'funded_amnt', 'int_rate', 'installment', 'total_pymnt', 'exchange_rate'], dtype='<U19')"
      ]
     },
     "execution_count": 133,
     "metadata": {},
     "output_type": "execute_result"
    }
   ],
   "source": [
    "header_num"
   ]
  },
  {
   "cell_type": "code",
   "execution_count": 134,
   "id": "34e09690",
   "metadata": {},
   "outputs": [],
   "source": [
    "# Colunas em USD\n",
    "columns_dollar = np.array([1,2,4,5])"
   ]
  },
  {
   "cell_type": "code",
   "execution_count": 135,
   "id": "bd948291",
   "metadata": {},
   "outputs": [
    {
     "data": {
      "text/plain": [
       "array([1.1 , 1.11, 1.13, ..., 1.12, 1.11, 1.09])"
      ]
     },
     "execution_count": 135,
     "metadata": {},
     "output_type": "execute_result"
    }
   ],
   "source": [
    "# Visualiza\n",
    "arr_num[:,6]"
   ]
  },
  {
   "cell_type": "code",
   "execution_count": 136,
   "id": "303c08cc",
   "metadata": {},
   "outputs": [
    {
     "data": {
      "text/plain": [
       "(10000, 7)"
      ]
     },
     "execution_count": 136,
     "metadata": {},
     "output_type": "execute_result"
    }
   ],
   "source": [
    "# Shape\n",
    "arr_num.shape"
   ]
  },
  {
   "cell_type": "code",
   "execution_count": 137,
   "id": "8433346b",
   "metadata": {},
   "outputs": [],
   "source": [
    "# Loop pelas colunas USD para aplicar a taxa de conversão para EURO\n",
    "for i in columns_dollar:\n",
    "    arr_num = np.hstack((arr_num, np.reshape(arr_num[:,i] / arr_num[:,6], (10000,1))))"
   ]
  },
  {
   "cell_type": "code",
   "execution_count": 138,
   "id": "41887292",
   "metadata": {},
   "outputs": [
    {
     "data": {
      "text/plain": [
       "(10000, 11)"
      ]
     },
     "execution_count": 138,
     "metadata": {},
     "output_type": "execute_result"
    }
   ],
   "source": [
    "# Shape\n",
    "arr_num.shape"
   ]
  },
  {
   "cell_type": "code",
   "execution_count": 139,
   "id": "74819219",
   "metadata": {},
   "outputs": [
    {
     "data": {
      "text/plain": [
       "array([[48010226.  ,    35000.  ,    35000.  , ...,    31933.3 ,     1081.04,     8624.69],\n",
       "       [57693261.  ,    30000.  ,    30000.  , ...,    27132.46,      848.86,     4232.39],\n",
       "       [59432726.  ,    15000.  ,    15000.  , ...,    13326.3 ,      439.64,     1750.04],\n",
       "       ...,\n",
       "       [50415990.  ,    10000.  ,    10000.  , ...,     8910.3 ,     1223.36,     1947.47],\n",
       "       [46154151.  ,    35000.  ,    10000.  , ...,     8997.4 ,      318.78,     2878.63],\n",
       "       [66055249.  ,    10000.  ,    10000.  , ...,     9145.8 ,      283.49,      276.11]])"
      ]
     },
     "execution_count": 139,
     "metadata": {},
     "output_type": "execute_result"
    }
   ],
   "source": [
    "# Visualiza\n",
    "arr_num"
   ]
  },
  {
   "cell_type": "markdown",
   "id": "96977451",
   "metadata": {},
   "source": [
    "> Vamos expandir o cabeçalho com as novas colunas."
   ]
  },
  {
   "cell_type": "code",
   "execution_count": 140,
   "id": "bb258c2a",
   "metadata": {},
   "outputs": [],
   "source": [
    "header_additional = np.array([column_name + '_EUR' for column_name in header_num[columns_dollar]])"
   ]
  },
  {
   "cell_type": "code",
   "execution_count": 141,
   "id": "999ba131",
   "metadata": {},
   "outputs": [
    {
     "data": {
      "text/plain": [
       "array(['loan_amnt_EUR', 'funded_amnt_EUR', 'installment_EUR', 'total_pymnt_EUR'], dtype='<U15')"
      ]
     },
     "execution_count": 141,
     "metadata": {},
     "output_type": "execute_result"
    }
   ],
   "source": [
    "header_additional"
   ]
  },
  {
   "cell_type": "code",
   "execution_count": 142,
   "id": "d689acb7",
   "metadata": {},
   "outputs": [],
   "source": [
    "header_num = np.concatenate((header_num, header_additional))"
   ]
  },
  {
   "cell_type": "code",
   "execution_count": 143,
   "id": "fc4fb74c",
   "metadata": {},
   "outputs": [
    {
     "data": {
      "text/plain": [
       "array(['id', 'loan_amnt', 'funded_amnt', 'int_rate', 'installment', 'total_pymnt', 'exchange_rate', 'loan_amnt_EUR', 'funded_amnt_EUR', 'installment_EUR', 'total_pymnt_EUR'], dtype='<U19')"
      ]
     },
     "execution_count": 143,
     "metadata": {},
     "output_type": "execute_result"
    }
   ],
   "source": [
    "header_num"
   ]
  },
  {
   "cell_type": "code",
   "execution_count": 144,
   "id": "7afb4631",
   "metadata": {},
   "outputs": [],
   "source": [
    "header_num[columns_dollar] = np.array([column_name + '_USD' for column_name in header_num[columns_dollar]])"
   ]
  },
  {
   "cell_type": "code",
   "execution_count": 145,
   "id": "f377138d",
   "metadata": {},
   "outputs": [
    {
     "data": {
      "text/plain": [
       "array(['id', 'loan_amnt_USD', 'funded_amnt_USD', 'int_rate', 'installment_USD', 'total_pymnt_USD', 'exchange_rate', 'loan_amnt_EUR', 'funded_amnt_EUR', 'installment_EUR', 'total_pymnt_EUR'],\n",
       "      dtype='<U19')"
      ]
     },
     "execution_count": 145,
     "metadata": {},
     "output_type": "execute_result"
    }
   ],
   "source": [
    "header_num"
   ]
  },
  {
   "cell_type": "code",
   "execution_count": 146,
   "id": "57d53d5e",
   "metadata": {},
   "outputs": [],
   "source": [
    "columns_index_order = [0,1,7,2,8,3,4,9,5,10,6]"
   ]
  },
  {
   "cell_type": "code",
   "execution_count": 147,
   "id": "5895f3be",
   "metadata": {},
   "outputs": [],
   "source": [
    "header_num = header_num[columns_index_order]"
   ]
  },
  {
   "cell_type": "code",
   "execution_count": 148,
   "id": "8fcc1864",
   "metadata": {},
   "outputs": [
    {
     "data": {
      "text/plain": [
       "array([[48010226.  ,    35000.  ,    35000.  , ...,    31933.3 ,     1081.04,     8624.69],\n",
       "       [57693261.  ,    30000.  ,    30000.  , ...,    27132.46,      848.86,     4232.39],\n",
       "       [59432726.  ,    15000.  ,    15000.  , ...,    13326.3 ,      439.64,     1750.04],\n",
       "       ...,\n",
       "       [50415990.  ,    10000.  ,    10000.  , ...,     8910.3 ,     1223.36,     1947.47],\n",
       "       [46154151.  ,    35000.  ,    10000.  , ...,     8997.4 ,      318.78,     2878.63],\n",
       "       [66055249.  ,    10000.  ,    10000.  , ...,     9145.8 ,      283.49,      276.11]])"
      ]
     },
     "execution_count": 148,
     "metadata": {},
     "output_type": "execute_result"
    }
   ],
   "source": [
    "arr_num"
   ]
  },
  {
   "cell_type": "code",
   "execution_count": 149,
   "id": "9d0c7055",
   "metadata": {},
   "outputs": [],
   "source": [
    "arr_num= arr_num[:,columns_index_order]"
   ]
  },
  {
   "cell_type": "markdown",
   "id": "49c4d4c3",
   "metadata": {},
   "source": [
    "## <font color='blue'>Pré-Processamento da Variável int_rate</font>"
   ]
  },
  {
   "cell_type": "code",
   "execution_count": 150,
   "id": "e8285615",
   "metadata": {},
   "outputs": [
    {
     "data": {
      "text/plain": [
       "array(['id', 'loan_amnt_USD', 'loan_amnt_EUR', 'funded_amnt_USD', 'funded_amnt_EUR', 'int_rate', 'installment_USD', 'installment_EUR', 'total_pymnt_USD', 'total_pymnt_EUR', 'exchange_rate'],\n",
       "      dtype='<U19')"
      ]
     },
     "execution_count": 150,
     "metadata": {},
     "output_type": "execute_result"
    }
   ],
   "source": [
    "header_num"
   ]
  },
  {
   "cell_type": "code",
   "execution_count": 151,
   "id": "32b62a5c",
   "metadata": {},
   "outputs": [
    {
     "data": {
      "text/plain": [
       "array([13.33, 28.99, 28.99, ..., 28.99, 16.55, 28.99])"
      ]
     },
     "execution_count": 151,
     "metadata": {},
     "output_type": "execute_result"
    }
   ],
   "source": [
    "arr_num[:,5]"
   ]
  },
  {
   "cell_type": "code",
   "execution_count": 152,
   "id": "e5cac636",
   "metadata": {},
   "outputs": [],
   "source": [
    "# Vamos apenas dividir por 100\n",
    "arr_num[:,5] = arr_num[:,5] / 100"
   ]
  },
  {
   "cell_type": "code",
   "execution_count": 153,
   "id": "a1f87b8a",
   "metadata": {},
   "outputs": [
    {
     "data": {
      "text/plain": [
       "array([0.13, 0.29, 0.29, ..., 0.29, 0.17, 0.29])"
      ]
     },
     "execution_count": 153,
     "metadata": {},
     "output_type": "execute_result"
    }
   ],
   "source": [
    "arr_num[:,5]"
   ]
  },
  {
   "cell_type": "markdown",
   "id": "7c743c21",
   "metadata": {},
   "source": [
    "## <font color='blue'>Checkpoint com Variáveis Numéricas Limpas e Pré-Processadas</font>\n",
    "**Checkpoint 3**"
   ]
  },
  {
   "cell_type": "code",
   "execution_count": 154,
   "id": "d0f0821e",
   "metadata": {},
   "outputs": [],
   "source": [
    "checkpoint_numeric = checkpoint(\"dados/Checkpoint-Numeric\", header_num, arr_num)"
   ]
  },
  {
   "cell_type": "code",
   "execution_count": 155,
   "id": "3857f3ad",
   "metadata": {},
   "outputs": [
    {
     "data": {
      "text/plain": [
       "(array(['id', 'loan_amnt_USD', 'loan_amnt_EUR', 'funded_amnt_USD', 'funded_amnt_EUR', 'int_rate', 'installment_USD', 'installment_EUR', 'total_pymnt_USD', 'total_pymnt_EUR', 'exchange_rate'],\n",
       "       dtype='<U19'),\n",
       " array([[48010226.  ,    35000.  ,    31933.3 , ...,     9452.96,     8624.69,        1.1 ],\n",
       "        [57693261.  ,    30000.  ,    27132.46, ...,     4679.7 ,     4232.39,        1.11],\n",
       "        [59432726.  ,    15000.  ,    13326.3 , ...,     1969.83,     1750.04,        1.13],\n",
       "        ...,\n",
       "        [50415990.  ,    10000.  ,     8910.3 , ...,     2185.64,     1947.47,        1.12],\n",
       "        [46154151.  ,    35000.  ,    31490.9 , ...,     3199.4 ,     2878.63,        1.11],\n",
       "        [66055249.  ,    10000.  ,     9145.8 , ...,      301.9 ,      276.11,        1.09]]))"
      ]
     },
     "execution_count": 155,
     "metadata": {},
     "output_type": "execute_result"
    }
   ],
   "source": [
    "checkpoint_numeric['arr_0'], checkpoint_numeric['data']"
   ]
  },
  {
   "cell_type": "markdown",
   "id": "df237fa6",
   "metadata": {},
   "source": [
    "## <font color=\"blue\">Construindo o Dataset Final</font>"
   ]
  },
  {
   "cell_type": "code",
   "execution_count": 156,
   "id": "b8418146",
   "metadata": {},
   "outputs": [
    {
     "data": {
      "text/plain": [
       "(10000, 6)"
      ]
     },
     "execution_count": 156,
     "metadata": {},
     "output_type": "execute_result"
    }
   ],
   "source": [
    "checkpoint_strings['data'].shape"
   ]
  },
  {
   "cell_type": "code",
   "execution_count": 157,
   "id": "b602908b",
   "metadata": {},
   "outputs": [
    {
     "data": {
      "text/plain": [
       "(10000, 11)"
      ]
     },
     "execution_count": 157,
     "metadata": {},
     "output_type": "execute_result"
    }
   ],
   "source": [
    "checkpoint_numeric['data'].shape"
   ]
  },
  {
   "cell_type": "code",
   "execution_count": 158,
   "id": "9aec8c83",
   "metadata": {},
   "outputs": [],
   "source": [
    "# Concatena os arrays\n",
    "df_final = np.hstack((checkpoint_numeric['data'], checkpoint_strings['data']))"
   ]
  },
  {
   "cell_type": "code",
   "execution_count": 159,
   "id": "753dceb0",
   "metadata": {},
   "outputs": [
    {
     "data": {
      "text/plain": [
       "array([[48010226.  ,    35000.  ,    31933.3 , ...,       13.  ,        1.  ,        1.  ],\n",
       "       [57693261.  ,    30000.  ,    27132.46, ...,        5.  ,        1.  ,        4.  ],\n",
       "       [59432726.  ,    15000.  ,    13326.3 , ...,       10.  ,        1.  ,        4.  ],\n",
       "       ...,\n",
       "       [50415990.  ,    10000.  ,     8910.3 , ...,        5.  ,        1.  ,        1.  ],\n",
       "       [46154151.  ,    35000.  ,    31490.9 , ...,       17.  ,        1.  ,        3.  ],\n",
       "       [66055249.  ,    10000.  ,     9145.8 , ...,        4.  ,        0.  ,        3.  ]])"
      ]
     },
     "execution_count": 159,
     "metadata": {},
     "output_type": "execute_result"
    }
   ],
   "source": [
    "df_final"
   ]
  },
  {
   "cell_type": "code",
   "execution_count": 160,
   "id": "48717c9d",
   "metadata": {},
   "outputs": [
    {
     "data": {
      "text/plain": [
       "0"
      ]
     },
     "execution_count": 160,
     "metadata": {},
     "output_type": "execute_result"
    }
   ],
   "source": [
    "# Verifica se tem valor ausente\n",
    "np.isnan(df_final).sum()"
   ]
  },
  {
   "cell_type": "code",
   "execution_count": 161,
   "id": "d667a9f8",
   "metadata": {},
   "outputs": [],
   "source": [
    "# Concatena os arrays de nomes de colunas\n",
    "header_full = np.concatenate((checkpoint_numeric['arr_0'], checkpoint_strings['arr_0']))"
   ]
  },
  {
   "cell_type": "code",
   "execution_count": 162,
   "id": "5e666b9d",
   "metadata": {},
   "outputs": [],
   "source": [
    "# Ordenando o dataset\n",
    "df_final = df_final[np.argsort(df_final[:,0])]"
   ]
  },
  {
   "cell_type": "code",
   "execution_count": 163,
   "id": "a3fa40f1",
   "metadata": {},
   "outputs": [
    {
     "data": {
      "text/plain": [
       "array([[  373332.  ,     9950.  ,     9038.08, ...,       21.  ,        0.  ,        1.  ],\n",
       "       [  575239.  ,    12000.  ,    10900.2 , ...,       25.  ,        1.  ,        2.  ],\n",
       "       [  707689.  ,    10000.  ,     8924.3 , ...,       13.  ,        1.  ,        0.  ],\n",
       "       ...,\n",
       "       [68614880.  ,     5600.  ,     5121.65, ...,        8.  ,        1.  ,        1.  ],\n",
       "       [68615915.  ,     4000.  ,     3658.32, ...,       10.  ,        1.  ,        2.  ],\n",
       "       [68616519.  ,    21600.  ,    19754.93, ...,        3.  ,        0.  ,        2.  ]])"
      ]
     },
     "execution_count": 163,
     "metadata": {},
     "output_type": "execute_result"
    }
   ],
   "source": [
    "df_final"
   ]
  },
  {
   "cell_type": "code",
   "execution_count": 164,
   "id": "4138fe15",
   "metadata": {},
   "outputs": [
    {
     "data": {
      "text/plain": [
       "array([   0,    1,    2, ..., 9997, 9998, 9999])"
      ]
     },
     "execution_count": 164,
     "metadata": {},
     "output_type": "execute_result"
    }
   ],
   "source": [
    "# Conferindo a ordenação da coluna 0\n",
    "np.argsort(df_final[:,0])"
   ]
  },
  {
   "cell_type": "code",
   "execution_count": 165,
   "id": "1448d0a2",
   "metadata": {},
   "outputs": [],
   "source": [
    "# Concatena o array de nomes de colunas com o array de dados\n",
    "df_final = np.vstack((header_full, df_final))"
   ]
  },
  {
   "cell_type": "code",
   "execution_count": 166,
   "id": "e36fbeed",
   "metadata": {},
   "outputs": [],
   "source": [
    "# Salva em disco\n",
    "np.savetxt(\"dados/dataset_limpo_preprocessado.csv\", \n",
    "           df_final, \n",
    "           fmt = '%s',\n",
    "           delimiter = ',')"
   ]
  },
  {
   "cell_type": "markdown",
   "id": "da4db009",
   "metadata": {},
   "source": [
    "## DATA SET INICIAL"
   ]
  },
  {
   "cell_type": "markdown",
   "id": "e83fd3f7",
   "metadata": {},
   "source": [
    "![title](imagens/Screenshot1.png)"
   ]
  },
  {
   "cell_type": "markdown",
   "id": "a6270475",
   "metadata": {},
   "source": [
    "## DATA SET FINAL"
   ]
  },
  {
   "cell_type": "markdown",
   "id": "a22de8f2",
   "metadata": {},
   "source": [
    "![title](imagens/Screenshot2.png)"
   ]
  },
  {
   "cell_type": "markdown",
   "id": "76fa99aa",
   "metadata": {},
   "source": [
    "## Fim"
   ]
  }
 ],
 "metadata": {
  "kernelspec": {
   "display_name": "Python 3 (ipykernel)",
   "language": "python",
   "name": "python3"
  },
  "language_info": {
   "codemirror_mode": {
    "name": "ipython",
    "version": 3
   },
   "file_extension": ".py",
   "mimetype": "text/x-python",
   "name": "python",
   "nbconvert_exporter": "python",
   "pygments_lexer": "ipython3",
   "version": "3.9.7"
  }
 },
 "nbformat": 4,
 "nbformat_minor": 5
}
